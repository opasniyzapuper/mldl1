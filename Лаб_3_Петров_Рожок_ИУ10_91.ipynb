{
  "nbformat": 4,
  "nbformat_minor": 0,
  "metadata": {
    "colab": {
      "name": "Лаб_3_Петров_Рожок_ИУ10-91.ipynb",
      "provenance": [],
      "collapsed_sections": [],
      "authorship_tag": "ABX9TyNdVzsfTi9Bj7Bfol5yxP9/",
      "include_colab_link": true
    },
    "kernelspec": {
      "name": "python3",
      "display_name": "Python 3"
    },
    "language_info": {
      "name": "python"
    }
  },
  "cells": [
    {
      "cell_type": "markdown",
      "metadata": {
        "id": "view-in-github",
        "colab_type": "text"
      },
      "source": [
        "<a href=\"https://colab.research.google.com/github/opasniyzapuper/mldl1/blob/main/%D0%9B%D0%B0%D0%B1_3_%D0%9F%D0%B5%D1%82%D1%80%D0%BE%D0%B2_%D0%A0%D0%BE%D0%B6%D0%BE%D0%BA_%D0%98%D0%A310_91.ipynb\" target=\"_parent\"><img src=\"https://colab.research.google.com/assets/colab-badge.svg\" alt=\"Open In Colab\"/></a>"
      ]
    },
    {
      "cell_type": "code",
      "metadata": {
        "colab": {
          "base_uri": "https://localhost:8080/",
          "height": 244
        },
        "id": "xlNeTNRNfnWZ",
        "outputId": "c695ab9e-4073-4617-a472-6be00459b822"
      },
      "source": [
        "import pandas as pd\n",
        "import numpy as np\n",
        "import matplotlib.pyplot as plt\n",
        "import seaborn as sns\n",
        "%matplotlib inline\n",
        "\n",
        "from google.colab import drive\n",
        "drive.mount('/content/drive')\n",
        "\n",
        "data = pd.read_csv('/content/drive/My Drive/Colab Notebooks/heart.csv', sep=',')\n",
        "\n",
        "data.head(5)"
      ],
      "execution_count": null,
      "outputs": [
        {
          "output_type": "stream",
          "name": "stdout",
          "text": [
            "Drive already mounted at /content/drive; to attempt to forcibly remount, call drive.mount(\"/content/drive\", force_remount=True).\n"
          ]
        },
        {
          "output_type": "execute_result",
          "data": {
            "text/html": [
              "<div>\n",
              "<style scoped>\n",
              "    .dataframe tbody tr th:only-of-type {\n",
              "        vertical-align: middle;\n",
              "    }\n",
              "\n",
              "    .dataframe tbody tr th {\n",
              "        vertical-align: top;\n",
              "    }\n",
              "\n",
              "    .dataframe thead th {\n",
              "        text-align: right;\n",
              "    }\n",
              "</style>\n",
              "<table border=\"1\" class=\"dataframe\">\n",
              "  <thead>\n",
              "    <tr style=\"text-align: right;\">\n",
              "      <th></th>\n",
              "      <th>age</th>\n",
              "      <th>sex</th>\n",
              "      <th>cp</th>\n",
              "      <th>trestbps</th>\n",
              "      <th>chol</th>\n",
              "      <th>fbs</th>\n",
              "      <th>restecg</th>\n",
              "      <th>thalach</th>\n",
              "      <th>exang</th>\n",
              "      <th>oldpeak</th>\n",
              "      <th>slope</th>\n",
              "      <th>ca</th>\n",
              "      <th>thal</th>\n",
              "      <th>target</th>\n",
              "    </tr>\n",
              "  </thead>\n",
              "  <tbody>\n",
              "    <tr>\n",
              "      <th>0</th>\n",
              "      <td>63</td>\n",
              "      <td>1</td>\n",
              "      <td>3</td>\n",
              "      <td>145</td>\n",
              "      <td>233</td>\n",
              "      <td>1</td>\n",
              "      <td>0</td>\n",
              "      <td>150</td>\n",
              "      <td>0</td>\n",
              "      <td>2.3</td>\n",
              "      <td>0</td>\n",
              "      <td>0</td>\n",
              "      <td>1</td>\n",
              "      <td>1</td>\n",
              "    </tr>\n",
              "    <tr>\n",
              "      <th>1</th>\n",
              "      <td>37</td>\n",
              "      <td>1</td>\n",
              "      <td>2</td>\n",
              "      <td>130</td>\n",
              "      <td>250</td>\n",
              "      <td>0</td>\n",
              "      <td>1</td>\n",
              "      <td>187</td>\n",
              "      <td>0</td>\n",
              "      <td>3.5</td>\n",
              "      <td>0</td>\n",
              "      <td>0</td>\n",
              "      <td>2</td>\n",
              "      <td>1</td>\n",
              "    </tr>\n",
              "    <tr>\n",
              "      <th>2</th>\n",
              "      <td>41</td>\n",
              "      <td>0</td>\n",
              "      <td>1</td>\n",
              "      <td>130</td>\n",
              "      <td>204</td>\n",
              "      <td>0</td>\n",
              "      <td>0</td>\n",
              "      <td>172</td>\n",
              "      <td>0</td>\n",
              "      <td>1.4</td>\n",
              "      <td>2</td>\n",
              "      <td>0</td>\n",
              "      <td>2</td>\n",
              "      <td>1</td>\n",
              "    </tr>\n",
              "    <tr>\n",
              "      <th>3</th>\n",
              "      <td>56</td>\n",
              "      <td>1</td>\n",
              "      <td>1</td>\n",
              "      <td>120</td>\n",
              "      <td>236</td>\n",
              "      <td>0</td>\n",
              "      <td>1</td>\n",
              "      <td>178</td>\n",
              "      <td>0</td>\n",
              "      <td>0.8</td>\n",
              "      <td>2</td>\n",
              "      <td>0</td>\n",
              "      <td>2</td>\n",
              "      <td>1</td>\n",
              "    </tr>\n",
              "    <tr>\n",
              "      <th>4</th>\n",
              "      <td>57</td>\n",
              "      <td>0</td>\n",
              "      <td>0</td>\n",
              "      <td>120</td>\n",
              "      <td>354</td>\n",
              "      <td>0</td>\n",
              "      <td>1</td>\n",
              "      <td>163</td>\n",
              "      <td>1</td>\n",
              "      <td>0.6</td>\n",
              "      <td>2</td>\n",
              "      <td>0</td>\n",
              "      <td>2</td>\n",
              "      <td>1</td>\n",
              "    </tr>\n",
              "  </tbody>\n",
              "</table>\n",
              "</div>"
            ],
            "text/plain": [
              "   age  sex  cp  trestbps  chol  fbs  ...  exang  oldpeak  slope  ca  thal  target\n",
              "0   63    1   3       145   233    1  ...      0      2.3      0   0     1       1\n",
              "1   37    1   2       130   250    0  ...      0      3.5      0   0     2       1\n",
              "2   41    0   1       130   204    0  ...      0      1.4      2   0     2       1\n",
              "3   56    1   1       120   236    0  ...      0      0.8      2   0     2       1\n",
              "4   57    0   0       120   354    0  ...      1      0.6      2   0     2       1\n",
              "\n",
              "[5 rows x 14 columns]"
            ]
          },
          "metadata": {},
          "execution_count": 73
        }
      ]
    },
    {
      "cell_type": "markdown",
      "metadata": {
        "id": "NMCCh4pXgix3"
      },
      "source": [
        "Выполним очистку данных как и в прошлых работах"
      ]
    },
    {
      "cell_type": "code",
      "metadata": {
        "id": "Ibc9rdjogsfw"
      },
      "source": [
        "data = data.drop(['oldpeak'], axis='columns')"
      ],
      "execution_count": null,
      "outputs": []
    },
    {
      "cell_type": "code",
      "metadata": {
        "id": "maNRjlsRhJ_o"
      },
      "source": [
        "X = data[data.columns[:-1]]\n",
        "y = data['target']"
      ],
      "execution_count": null,
      "outputs": []
    },
    {
      "cell_type": "code",
      "metadata": {
        "colab": {
          "base_uri": "https://localhost:8080/"
        },
        "id": "xlQu7yRNhORk",
        "outputId": "e3a5f338-a70e-4783-952a-247ce0f77465"
      },
      "source": [
        "X.shape"
      ],
      "execution_count": null,
      "outputs": [
        {
          "output_type": "execute_result",
          "data": {
            "text/plain": [
              "(303, 12)"
            ]
          },
          "metadata": {},
          "execution_count": 76
        }
      ]
    },
    {
      "cell_type": "markdown",
      "metadata": {
        "id": "tuqbZd--1spA"
      },
      "source": [
        ""
      ]
    },
    {
      "cell_type": "markdown",
      "metadata": {
        "id": "cE5ofeMjhdyK"
      },
      "source": [
        "Логистическая модель в sklearn реализована в классе LogisticRegression библиотеки linear_model"
      ]
    },
    {
      "cell_type": "code",
      "metadata": {
        "id": "Q6tJFDH2heei"
      },
      "source": [
        "from sklearn.linear_model import LogisticRegression\n",
        "model = LogisticRegression(\n",
        "    # метод для поиска решения. Для небольших датасетов лучше подходит liblinear, sag и saga -- для больших.\n",
        "    # Варианты: newton-cg, lbfgs, liblinear, sag, saga\n",
        "    solver='liblinear',\n",
        "    # норма для регуляризации. Варианты: l2, l1.\n",
        "    penalty='l2',\n",
        "    # параметр регуляризации. Чем меньше, тем сильнее регуляризация. Положительный.\n",
        "    C=1,\n",
        "    # параметр для остановки поиска решения.(прекращается процесс обучения когда приближаемся к локальному минимому равному переменной tol)\n",
        "    tol=1e-4,\n",
        "    # Так как распознается 2 класса. \n",
        "    multi_class='ovr'\n",
        ")"
      ],
      "execution_count": null,
      "outputs": []
    },
    {
      "cell_type": "code",
      "metadata": {
        "colab": {
          "base_uri": "https://localhost:8080/"
        },
        "id": "kiPcQB6FhsfC",
        "outputId": "59979692-5f51-4241-a202-b32f3992cdf0"
      },
      "source": [
        "model.fit(X, y)"
      ],
      "execution_count": null,
      "outputs": [
        {
          "output_type": "execute_result",
          "data": {
            "text/plain": [
              "LogisticRegression(C=1, multi_class='ovr', solver='liblinear')"
            ]
          },
          "metadata": {},
          "execution_count": 78
        }
      ]
    },
    {
      "cell_type": "code",
      "metadata": {
        "id": "nooMdEYThweq"
      },
      "source": [
        "predictions = model.predict(X) #предсказанные значения"
      ],
      "execution_count": null,
      "outputs": []
    },
    {
      "cell_type": "code",
      "metadata": {
        "colab": {
          "base_uri": "https://localhost:8080/",
          "height": 112
        },
        "id": "7EvkCa_Vh2RK",
        "outputId": "a6410c58-d10b-4be4-a741-5ae68761ee1e"
      },
      "source": [
        "from sklearn import metrics\n",
        "conf_mat = metrics.confusion_matrix(y, predictions)\n",
        "conf_mat = pd.DataFrame(conf_mat, index=model.classes_, columns=model.classes_)\n",
        "conf_mat"
      ],
      "execution_count": null,
      "outputs": [
        {
          "output_type": "execute_result",
          "data": {
            "text/html": [
              "<div>\n",
              "<style scoped>\n",
              "    .dataframe tbody tr th:only-of-type {\n",
              "        vertical-align: middle;\n",
              "    }\n",
              "\n",
              "    .dataframe tbody tr th {\n",
              "        vertical-align: top;\n",
              "    }\n",
              "\n",
              "    .dataframe thead th {\n",
              "        text-align: right;\n",
              "    }\n",
              "</style>\n",
              "<table border=\"1\" class=\"dataframe\">\n",
              "  <thead>\n",
              "    <tr style=\"text-align: right;\">\n",
              "      <th></th>\n",
              "      <th>0</th>\n",
              "      <th>1</th>\n",
              "    </tr>\n",
              "  </thead>\n",
              "  <tbody>\n",
              "    <tr>\n",
              "      <th>0</th>\n",
              "      <td>107</td>\n",
              "      <td>31</td>\n",
              "    </tr>\n",
              "    <tr>\n",
              "      <th>1</th>\n",
              "      <td>18</td>\n",
              "      <td>147</td>\n",
              "    </tr>\n",
              "  </tbody>\n",
              "</table>\n",
              "</div>"
            ],
            "text/plain": [
              "     0    1\n",
              "0  107   31\n",
              "1   18  147"
            ]
          },
          "metadata": {},
          "execution_count": 80
        }
      ]
    },
    {
      "cell_type": "code",
      "metadata": {
        "id": "TY5-dGOYh880"
      },
      "source": [
        "prediction_test = model.predict_proba(X)"
      ],
      "execution_count": null,
      "outputs": []
    },
    {
      "cell_type": "code",
      "metadata": {
        "id": "ygbS9VrUiY5R"
      },
      "source": [
        "predictions = prediction_test[:,1]\n",
        "fpr, tpr, threshold = metrics.roc_curve(y, predictions)\n",
        "roc_auc = metrics.auc(fpr, tpr)\n",
        "#frp - false positive rate (горизонтальная ось)\n",
        "#tpr (recall) - true positive rate (вертикальная ось)\n",
        "# каждая точка на графике ROC AUC соответствует выбору некоторого порога (про это ниже)"
      ],
      "execution_count": null,
      "outputs": []
    },
    {
      "cell_type": "code",
      "metadata": {
        "colab": {
          "base_uri": "https://localhost:8080/",
          "height": 294
        },
        "id": "SoI_BNHUiuHc",
        "outputId": "3fd8b88f-98e6-4835-9ce8-6571475ed2cf"
      },
      "source": [
        "import matplotlib.pyplot as plt\n",
        "plt.title('Receiver Operating Characteristic')\n",
        "plt.plot(fpr, tpr, 'b', label = 'AUC = %0.2f' % roc_auc)\n",
        "plt.legend(loc = 'lower right')\n",
        "plt.plot([0, 1], [0, 1],'r--')\n",
        "plt.xlim([0, 1])\n",
        "plt.ylim([0, 1])\n",
        "plt.ylabel('True Positive Rate')\n",
        "plt.xlabel('False Positive Rate')\n",
        "plt.show()"
      ],
      "execution_count": null,
      "outputs": [
        {
          "output_type": "display_data",
          "data": {
            "image/png": "[encoded data removed]",
            "text/plain": [
              "<Figure size 432x288 with 1 Axes>"
            ]
          },
          "metadata": {
            "needs_background": "light"
          }
        }
      ]
    },
    {
      "cell_type": "markdown",
      "metadata": {
        "id": "8J5d9Tgki8zN"
      },
      "source": [
        "penalty='l2' C=1 AUC = 0.92\n",
        "\n",
        "penalty='l2' C=1e2 AUC = 0.92\n",
        "\n",
        "penalty='l2' C=1e4 AUC = 0.92\n",
        "\n",
        "penalty='l1' C=1 AUC = 0.92\n",
        "\n",
        "penalty='l1' C=1e2 AUC = 0.92\n",
        "\n",
        "penalty='l1' C=1e4 AUC = 0.92\n",
        "\n",
        "переменные tol и multi_class не менялись"
      ]
    },
    {
      "cell_type": "code",
      "metadata": {
        "colab": {
          "base_uri": "https://localhost:8080/"
        },
        "id": "Bu28abfvj2EK",
        "outputId": "a16f7001-356b-46f0-8aaf-02a4df44a085"
      },
      "source": [
        "model.coef_"
      ],
      "execution_count": null,
      "outputs": [
        {
          "output_type": "execute_result",
          "data": {
            "text/plain": [
              "array([[ 0.00639176, -1.50098765,  0.75422963, -0.01852612, -0.00421272,\n",
              "         0.07348674,  0.40070465,  0.03051363, -0.88168757,  0.89207342,\n",
              "        -0.77862796, -0.81651849]])"
            ]
          },
          "metadata": {},
          "execution_count": 84
        }
      ]
    },
    {
      "cell_type": "code",
      "metadata": {
        "colab": {
          "base_uri": "https://localhost:8080/"
        },
        "id": "4QetQLkylC01",
        "outputId": "aa687458-d039-490d-b6a7-34c919c98915"
      },
      "source": [
        "col = [i for i in range(len(model.coef_[0]))]\n",
        "listValues = model.coef_[0]\n",
        "a = list()\n",
        "for i in range(0, len(col), 1):\n",
        "  if listValues[i] < 0.01:\n",
        "    a.append(col[i])\n",
        "print(a)"
      ],
      "execution_count": null,
      "outputs": [
        {
          "output_type": "stream",
          "name": "stdout",
          "text": [
            "[0, 1, 3, 4, 8, 10, 11]\n"
          ]
        }
      ]
    },
    {
      "cell_type": "code",
      "metadata": {
        "colab": {
          "base_uri": "https://localhost:8080/"
        },
        "id": "KskqsXIarN5c",
        "outputId": "e9270b96-87b9-4bdc-942b-76272ed20a3e"
      },
      "source": [
        "data.info()"
      ],
      "execution_count": null,
      "outputs": [
        {
          "output_type": "stream",
          "name": "stdout",
          "text": [
            "<class 'pandas.core.frame.DataFrame'>\n",
            "RangeIndex: 303 entries, 0 to 302\n",
            "Data columns (total 13 columns):\n",
            " #   Column    Non-Null Count  Dtype\n",
            "---  ------    --------------  -----\n",
            " 0   age       303 non-null    int64\n",
            " 1   sex       303 non-null    int64\n",
            " 2   cp        303 non-null    int64\n",
            " 3   trestbps  303 non-null    int64\n",
            " 4   chol      303 non-null    int64\n",
            " 5   fbs       303 non-null    int64\n",
            " 6   restecg   303 non-null    int64\n",
            " 7   thalach   303 non-null    int64\n",
            " 8   exang     303 non-null    int64\n",
            " 9   slope     303 non-null    int64\n",
            " 10  ca        303 non-null    int64\n",
            " 11  thal      303 non-null    int64\n",
            " 12  target    303 non-null    int64\n",
            "dtypes: int64(13)\n",
            "memory usage: 30.9 KB\n"
          ]
        }
      ]
    },
    {
      "cell_type": "code",
      "metadata": {
        "id": "3v4dFh0WoeyQ"
      },
      "source": [
        "data1 = pd.read_csv('/content/drive/My Drive/Colab Notebooks/heart.csv', sep=',')\n",
        "columns = data.columns\n",
        "for i in a:\n",
        "     data1.drop([columns[i]], axis = 1, inplace = True)"
      ],
      "execution_count": null,
      "outputs": []
    },
    {
      "cell_type": "code",
      "metadata": {
        "colab": {
          "base_uri": "https://localhost:8080/"
        },
        "id": "iftckFOgqumS",
        "outputId": "73b9d1f4-e456-4381-a529-95f1ffd7c90c"
      },
      "source": [
        "data.info()\n",
        "data1.info()"
      ],
      "execution_count": null,
      "outputs": [
        {
          "output_type": "stream",
          "name": "stdout",
          "text": [
            "<class 'pandas.core.frame.DataFrame'>\n",
            "RangeIndex: 303 entries, 0 to 302\n",
            "Data columns (total 13 columns):\n",
            " #   Column    Non-Null Count  Dtype\n",
            "---  ------    --------------  -----\n",
            " 0   age       303 non-null    int64\n",
            " 1   sex       303 non-null    int64\n",
            " 2   cp        303 non-null    int64\n",
            " 3   trestbps  303 non-null    int64\n",
            " 4   chol      303 non-null    int64\n",
            " 5   fbs       303 non-null    int64\n",
            " 6   restecg   303 non-null    int64\n",
            " 7   thalach   303 non-null    int64\n",
            " 8   exang     303 non-null    int64\n",
            " 9   slope     303 non-null    int64\n",
            " 10  ca        303 non-null    int64\n",
            " 11  thal      303 non-null    int64\n",
            " 12  target    303 non-null    int64\n",
            "dtypes: int64(13)\n",
            "memory usage: 30.9 KB\n",
            "<class 'pandas.core.frame.DataFrame'>\n",
            "RangeIndex: 303 entries, 0 to 302\n",
            "Data columns (total 7 columns):\n",
            " #   Column   Non-Null Count  Dtype  \n",
            "---  ------   --------------  -----  \n",
            " 0   cp       303 non-null    int64  \n",
            " 1   fbs      303 non-null    int64  \n",
            " 2   restecg  303 non-null    int64  \n",
            " 3   thalach  303 non-null    int64  \n",
            " 4   oldpeak  303 non-null    float64\n",
            " 5   slope    303 non-null    int64  \n",
            " 6   target   303 non-null    int64  \n",
            "dtypes: float64(1), int64(6)\n",
            "memory usage: 16.7 KB\n"
          ]
        }
      ]
    },
    {
      "cell_type": "code",
      "metadata": {
        "colab": {
          "base_uri": "https://localhost:8080/"
        },
        "id": "zkCaEHdKsYPM",
        "outputId": "5a3bea0f-0020-4a9d-e416-0962825ad3fb"
      },
      "source": [
        "X = data1[data1.columns[:-1]]\n",
        "y = data1['target']\n",
        "X.shape"
      ],
      "execution_count": null,
      "outputs": [
        {
          "output_type": "execute_result",
          "data": {
            "text/plain": [
              "(303, 6)"
            ]
          },
          "metadata": {},
          "execution_count": 92
        }
      ]
    },
    {
      "cell_type": "code",
      "metadata": {
        "colab": {
          "base_uri": "https://localhost:8080/"
        },
        "id": "dKszyuEos_Ta",
        "outputId": "c49668e6-ad78-4f49-cf7c-cb39c55145f2"
      },
      "source": [
        "from sklearn.model_selection import train_test_split\n",
        "X_train, X_test, y_train, y_test = train_test_split(X, y)\n",
        "from sklearn.neighbors import KNeighborsClassifier\n",
        "clf = KNeighborsClassifier(n_neighbors=5)\n",
        "clf.fit(X_train, y_train)\n",
        "clf.score(X_test, y_test)"
      ],
      "execution_count": null,
      "outputs": [
        {
          "output_type": "execute_result",
          "data": {
            "text/plain": [
              "0.6842105263157895"
            ]
          },
          "metadata": {},
          "execution_count": 97
        }
      ]
    }
  ]
}